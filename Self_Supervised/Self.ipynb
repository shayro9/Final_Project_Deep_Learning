{
 "cells": [
  {
   "cell_type": "code",
   "execution_count": 1,
   "id": "582590096dbb0597",
   "metadata": {
    "ExecuteTime": {
     "end_time": "2025-03-20T00:22:15.531891800Z",
     "start_time": "2025-03-20T00:22:12.983071600Z"
    },
    "collapsed": false,
    "jupyter": {
     "outputs_hidden": false
    }
   },
   "outputs": [],
   "source": [
    "from torch.utils.data import DataLoader\n",
    "import torch\n",
    "import torch.nn as nn\n",
    "import torch.optim as optim\n",
    "\n",
    "from train import *\n",
    "import utils\n",
    "from model import Self_Supervised\n",
    "from torchvision.datasets import CIFAR10, MNIST"
   ]
  },
  {
   "cell_type": "code",
   "execution_count": 2,
   "id": "initial_id",
   "metadata": {
    "ExecuteTime": {
     "end_time": "2025-03-20T00:22:16.759007100Z",
     "start_time": "2025-03-20T00:22:16.754002300Z"
    }
   },
   "outputs": [],
   "source": [
    "feature_dim = 128\n",
    "batch_size = 256\n",
    "epochs = 50\n",
    "\n",
    "# Reconstruction train\n",
    "Rec_lr = 0.0001\n",
    "betas = (0.9, 0.99)\n",
    "\n",
    "# Classify train\n",
    "Class_lr = 0.0005\n",
    "Class_wd = 1e-6\n",
    "\n",
    "dataset = \"CIFAR10\""
   ]
  },
  {
   "cell_type": "code",
   "execution_count": 3,
   "id": "314e53d87154dd9a",
   "metadata": {
    "ExecuteTime": {
     "end_time": "2025-03-20T00:22:17.496677200Z",
     "start_time": "2025-03-20T00:22:17.480662700Z"
    },
    "collapsed": false,
    "jupyter": {
     "outputs_hidden": false
    }
   },
   "outputs": [
    {
     "name": "stdout",
     "output_type": "stream",
     "text": [
      "cuda\n"
     ]
    }
   ],
   "source": [
    "device = torch.device(\"cuda\" if torch.cuda.is_available() else \"cpu\")\n",
    "print(device)"
   ]
  },
  {
   "cell_type": "code",
   "execution_count": 4,
   "id": "4bb6999b46c39123",
   "metadata": {
    "ExecuteTime": {
     "end_time": "2025-03-20T00:22:19.734214600Z",
     "start_time": "2025-03-20T00:22:18.242354800Z"
    },
    "collapsed": false,
    "jupyter": {
     "outputs_hidden": false
    }
   },
   "outputs": [],
   "source": [
    "if dataset == \"CIFAR10\":\n",
    "    in_ch = 3\n",
    "    train_data = CIFAR10(root='/datasets/cv_datasets/data', train=True, transform=utils.CIFAR10_train_transform,\n",
    "                         download=True)\n",
    "    Class_train_data = CIFAR10(root='/datasets/cv_datasets/data', train=True, transform=utils.CIFAR10_transform,\n",
    "                         download=True)\n",
    "    test_data = CIFAR10(root='/datasets/cv_datasets/data', train=False, transform=utils.CIFAR10_transform,\n",
    "                        download=True)\n",
    "else:\n",
    "    in_ch = 1\n",
    "    train_data = MNIST(root='./data', train=True, transform=utils.MNIST_train_transform, download=True)\n",
    "    Class_train_data = MNIST(root='./data', train=True, transform=utils.MNIST_transform, download=True)\n",
    "    test_data = MNIST(root='./data', train=False, transform=utils.MNIST_transform, download=True)"
   ]
  },
  {
   "cell_type": "code",
   "execution_count": 5,
   "id": "9be5577121678a19",
   "metadata": {
    "ExecuteTime": {
     "end_time": "2025-03-20T00:22:20.389810300Z",
     "start_time": "2025-03-20T00:22:20.367790300Z"
    },
    "collapsed": false,
    "jupyter": {
     "outputs_hidden": false
    }
   },
   "outputs": [],
   "source": [
    "train_loader = DataLoader(train_data, batch_size=batch_size, shuffle=True, num_workers=2, pin_memory=True, drop_last=True)\n",
    "Class_train_loader = DataLoader(Class_train_data, batch_size=batch_size, shuffle=True, num_workers=2, pin_memory=True)\n",
    "test_loader = DataLoader(test_data, batch_size=batch_size, shuffle=False, num_workers=2, pin_memory=True)\n",
    "\n",
    "model = Self_Supervised(in_ch, feature_dim).to(device)\n",
    "Rec_optimizer = optim.AdamW(model.parameters(), lr=Rec_lr, betas=betas, weight_decay=1e-4)\n",
    "Rec_scheduler = torch.optim.lr_scheduler.CosineAnnealingLR(Rec_optimizer, T_max=epochs)\n",
    "Rec_loss_fn = nn.MSELoss()\n",
    "\n",
    "Class_optimizer = torch.optim.Adam(model.classifier.parameters(), lr=Class_lr, betas=betas, weight_decay=Class_wd)\n",
    "Class_loss_fn = nn.CrossEntropyLoss()"
   ]
  },
  {
   "cell_type": "code",
   "execution_count": null,
   "id": "aaf2ca79791d6540",
   "metadata": {
    "ExecuteTime": {
     "end_time": "2025-03-20T00:22:43.600249900Z",
     "start_time": "2025-03-20T00:22:21.159509500Z"
    },
    "collapsed": false,
    "jupyter": {
     "outputs_hidden": false
    }
   },
   "outputs": [
    {
     "name": "stdout",
     "output_type": "stream",
     "text": [
      "----------Train------------\n"
     ]
    }
   ],
   "source": [
    "# Train encoder\n",
    "print(\"----------Train------------\")\n",
    "for epoch in range(1, epochs + 1):\n",
    "    train_loss = train_epoch(model, train_loader, Rec_optimizer, Rec_loss_fn, device)\n",
    "    print('Epoch: {}, Loss: {}'.format(epoch, train_loss))\n",
    "    Rec_scheduler.step()\n",
    "\n",
    "print(\"plotting\")\n",
    "utils.plot_tsne(model, test_loader, device)"
   ]
  },
  {
   "cell_type": "code",
   "execution_count": null,
   "id": "30be1eb6c9e97206",
   "metadata": {
    "collapsed": false,
    "jupyter": {
     "outputs_hidden": false
    }
   },
   "outputs": [],
   "source": [
    "for param in model.encoder.parameters():\n",
    "    param.requires_grad = False\n",
    "\n",
    "# Train classifier\n",
    "print(\"------Train Classifier------------\")\n",
    "for epoch in range(1, epochs + 1):\n",
    "    class_loss, class_acc = train_classifier(model, Class_train_loader, Class_optimizer, Class_loss_fn, device)\n",
    "    print('Classifier - Epoch: {}, Loss: {}, Accuracy: {}'.format(epoch, class_loss, class_acc))\n",
    "    test_loss, test_acc = test_epoch(model, test_loader, Class_loss_fn, device)\n",
    "    print('Test - Epoch: {}, Loss: {}, Accuracy: {}'.format(epoch, test_loss, test_acc))"
   ]
  },
  {
   "cell_type": "code",
   "execution_count": null,
   "id": "8e042bcc-5dc0-4a1b-a7d0-e605db88a3ab",
   "metadata": {},
   "outputs": [],
   "source": []
  }
 ],
 "metadata": {
  "kernelspec": {
   "display_name": "Python 3 (ipykernel)",
   "language": "python",
   "name": "python3"
  },
  "language_info": {
   "codemirror_mode": {
    "name": "ipython",
    "version": 3
   },
   "file_extension": ".py",
   "mimetype": "text/x-python",
   "name": "python",
   "nbconvert_exporter": "python",
   "pygments_lexer": "ipython3",
   "version": "3.9.7"
  }
 },
 "nbformat": 4,
 "nbformat_minor": 5
}
