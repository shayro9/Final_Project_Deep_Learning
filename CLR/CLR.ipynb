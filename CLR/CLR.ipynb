{
 "cells": [
  {
   "cell_type": "code",
   "execution_count": 1,
   "id": "582590096dbb0597",
   "metadata": {
    "ExecuteTime": {
     "end_time": "2025-03-20T00:22:15.531891800Z",
     "start_time": "2025-03-20T00:22:12.983071600Z"
    },
    "collapsed": false,
    "jupyter": {
     "outputs_hidden": false
    }
   },
   "outputs": [],
   "source": [
    "from torch.utils.data import DataLoader\n",
    "import torch\n",
    "import torch.nn as nn\n",
    "import torch.optim as optim\n",
    "\n",
    "from train import *\n",
    "import utils\n",
    "from model import CLR"
   ]
  },
  {
   "cell_type": "code",
   "execution_count": 2,
   "id": "initial_id",
   "metadata": {
    "ExecuteTime": {
     "end_time": "2025-03-20T00:22:16.759007100Z",
     "start_time": "2025-03-20T00:22:16.754002300Z"
    }
   },
   "outputs": [],
   "source": [
    "feature_dim = 128\n",
    "batch_size = 512\n",
    "epochs = 10\n",
    "\n",
    "# CLR train\n",
    "CLR_lr = 1e-3\n",
    "CLR_wd = 1e-6\n",
    "temperature = 0.2\n",
    "\n",
    "#Classify train\n",
    "Class_lr = 1e-3\n",
    "Class_wd = 1e-4"
   ]
  },
  {
   "cell_type": "code",
   "execution_count": 3,
   "id": "314e53d87154dd9a",
   "metadata": {
    "ExecuteTime": {
     "end_time": "2025-03-20T00:22:17.496677200Z",
     "start_time": "2025-03-20T00:22:17.480662700Z"
    },
    "collapsed": false,
    "jupyter": {
     "outputs_hidden": false
    }
   },
   "outputs": [
    {
     "name": "stdout",
     "output_type": "stream",
     "text": [
      "cuda\n"
     ]
    }
   ],
   "source": [
    "device = torch.device(\"cuda\" if torch.cuda.is_available() else \"cpu\")\n",
    "print(device)"
   ]
  },
  {
   "cell_type": "code",
   "execution_count": 4,
   "id": "4bb6999b46c39123",
   "metadata": {
    "ExecuteTime": {
     "end_time": "2025-03-20T00:22:19.734214600Z",
     "start_time": "2025-03-20T00:22:18.242354800Z"
    },
    "collapsed": false,
    "jupyter": {
     "outputs_hidden": false
    }
   },
   "outputs": [],
   "source": [
    "CLR_train_data = utils.CIFAR10Pair(root='/datasets/cv_datasets/data', train=True, transform=utils.train_transform, download=True)\n",
    "CLR_train_loader = DataLoader(CLR_train_data, batch_size=batch_size, shuffle=True, num_workers=2, pin_memory=True, drop_last=True)\n",
    "Class_train_data = utils.CIFAR10(root='/datasets/cv_datasets/data', train=True, transform=utils.test_transform, download=True)\n",
    "Class_train_loader = DataLoader(Class_train_data, batch_size=batch_size, shuffle=True, num_workers=2, pin_memory=True)\n",
    "test_data = utils.CIFAR10(root='/datasets/cv_datasets/data', train=False, transform=utils.test_transform, download=True)\n",
    "test_loader = DataLoader(test_data, batch_size=batch_size, shuffle=False, num_workers=2, pin_memory=True)"
   ]
  },
  {
   "cell_type": "code",
   "execution_count": 5,
   "id": "9be5577121678a19",
   "metadata": {
    "ExecuteTime": {
     "end_time": "2025-03-20T00:22:20.389810300Z",
     "start_time": "2025-03-20T00:22:20.367790300Z"
    },
    "collapsed": false,
    "jupyter": {
     "outputs_hidden": false
    }
   },
   "outputs": [],
   "source": [
    "model = CLR(feature_dim).to(device)\n",
    "CLR_optimizer = optim.Adam(model.parameters(), lr=CLR_lr, weight_decay=CLR_wd)\n",
    "CLR_loss_fn = utils.NTXentLoss \n",
    "Class_optimizer = torch.optim.SGD(model.fc.parameters(), lr=Class_lr, momentum=0.9, weight_decay=Class_wd)\n",
    "Class_loss_fn = nn.CrossEntropyLoss()"
   ]
  },
  {
   "cell_type": "code",
   "execution_count": null,
   "id": "aaf2ca79791d6540",
   "metadata": {
    "ExecuteTime": {
     "end_time": "2025-03-20T00:22:43.600249900Z",
     "start_time": "2025-03-20T00:22:21.159509500Z"
    },
    "collapsed": false,
    "jupyter": {
     "outputs_hidden": false
    }
   },
   "outputs": [
    {
     "name": "stderr",
     "output_type": "stream",
     "text": [
      "Training: 100%|██████████| 97/97 [01:27<00:00,  1.11it/s]\n"
     ]
    },
    {
     "name": "stdout",
     "output_type": "stream",
     "text": [
      "Epoch: 1, Loss: 5.599375090648219\n"
     ]
    },
    {
     "name": "stderr",
     "output_type": "stream",
     "text": [
      "Training: 100%|██████████| 97/97 [01:24<00:00,  1.14it/s]\n"
     ]
    },
    {
     "name": "stdout",
     "output_type": "stream",
     "text": [
      "Epoch: 2, Loss: 5.076444984711323\n"
     ]
    },
    {
     "name": "stderr",
     "output_type": "stream",
     "text": [
      "Training: 100%|██████████| 97/97 [01:25<00:00,  1.13it/s]\n"
     ]
    },
    {
     "name": "stdout",
     "output_type": "stream",
     "text": [
      "Epoch: 3, Loss: 4.859454110725639\n"
     ]
    },
    {
     "name": "stderr",
     "output_type": "stream",
     "text": [
      "Training: 100%|██████████| 97/97 [01:27<00:00,  1.11it/s]\n"
     ]
    },
    {
     "name": "stdout",
     "output_type": "stream",
     "text": [
      "Epoch: 4, Loss: 4.713647970219248\n"
     ]
    },
    {
     "name": "stderr",
     "output_type": "stream",
     "text": [
      "Training: 100%|██████████| 97/97 [01:27<00:00,  1.11it/s]\n"
     ]
    },
    {
     "name": "stdout",
     "output_type": "stream",
     "text": [
      "Epoch: 5, Loss: 4.644251149954255\n"
     ]
    },
    {
     "name": "stderr",
     "output_type": "stream",
     "text": [
      "Training: 100%|██████████| 97/97 [01:27<00:00,  1.11it/s]\n"
     ]
    },
    {
     "name": "stdout",
     "output_type": "stream",
     "text": [
      "Epoch: 6, Loss: 4.571394581155679\n"
     ]
    },
    {
     "name": "stderr",
     "output_type": "stream",
     "text": [
      "Training: 100%|██████████| 97/97 [01:26<00:00,  1.12it/s]\n"
     ]
    },
    {
     "name": "stdout",
     "output_type": "stream",
     "text": [
      "Epoch: 7, Loss: 4.519970308874071\n"
     ]
    },
    {
     "name": "stderr",
     "output_type": "stream",
     "text": [
      "Training: 100%|██████████| 97/97 [01:26<00:00,  1.12it/s]\n"
     ]
    },
    {
     "name": "stdout",
     "output_type": "stream",
     "text": [
      "Epoch: 8, Loss: 4.50058686856142\n"
     ]
    },
    {
     "name": "stderr",
     "output_type": "stream",
     "text": [
      "Training: 100%|██████████| 97/97 [01:26<00:00,  1.12it/s]\n"
     ]
    },
    {
     "name": "stdout",
     "output_type": "stream",
     "text": [
      "Epoch: 9, Loss: 4.471167903585532\n"
     ]
    },
    {
     "name": "stderr",
     "output_type": "stream",
     "text": [
      "Training: 100%|██████████| 97/97 [01:26<00:00,  1.12it/s]"
     ]
    },
    {
     "name": "stdout",
     "output_type": "stream",
     "text": [
      "Epoch: 10, Loss: 4.435387409839434\n",
      "plotting\n"
     ]
    },
    {
     "name": "stderr",
     "output_type": "stream",
     "text": [
      "\n"
     ]
    }
   ],
   "source": [
    "# Train encoder\n",
    "for epoch in range(1, epochs + 1):\n",
    "    train_loss = train_epoch(model, CLR_train_loader, CLR_optimizer, CLR_loss_fn, temperature, device)\n",
    "    print('Epoch: {}, Loss: {}'.format(epoch, train_loss))\n",
    "\n",
    "print(\"plotting\")\n",
    "utils.plot_tsne(model, test_loader, device)"
   ]
  },
  {
   "cell_type": "code",
   "execution_count": null,
   "id": "30be1eb6c9e97206",
   "metadata": {
    "collapsed": false,
    "jupyter": {
     "outputs_hidden": false
    }
   },
   "outputs": [],
   "source": [
    "for param in model.encoder.parameters():\n",
    "    param.requires_grad = False\n",
    "    \n",
    "for epoch in range(1, epochs + 1):\n",
    "    class_loss, class_acc = train_classifier(model, Class_train_loader, Class_optimizer, Class_loss_fn, device)\n",
    "    print('Classifier - Epoch: {}, Loss: {}, Accuracy: {}'.format(epoch, class_loss, class_acc))\n",
    "    test_loss, test_acc = test_epoch(model, test_loader, Class_loss_fn, device)\n",
    "    print('Test - Epoch: {}, Loss: {}, Accuracy: {}'.format(epoch, test_loss, test_acc))"
   ]
  },
  {
   "cell_type": "code",
   "execution_count": null,
   "id": "8e042bcc-5dc0-4a1b-a7d0-e605db88a3ab",
   "metadata": {},
   "outputs": [],
   "source": []
  }
 ],
 "metadata": {
  "kernelspec": {
   "display_name": "Python 3 (ipykernel)",
   "language": "python",
   "name": "python3"
  },
  "language_info": {
   "codemirror_mode": {
    "name": "ipython",
    "version": 3
   },
   "file_extension": ".py",
   "mimetype": "text/x-python",
   "name": "python",
   "nbconvert_exporter": "python",
   "pygments_lexer": "ipython3",
   "version": "3.9.7"
  }
 },
 "nbformat": 4,
 "nbformat_minor": 5
}
